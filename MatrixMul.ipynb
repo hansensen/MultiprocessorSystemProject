{
 "cells": [
  {
   "cell_type": "code",
   "execution_count": null,
   "metadata": {},
   "outputs": [],
   "source": [
    "import pandas as pd\n",
    "import numpy as np\n",
    "import time"
   ]
  },
  {
   "cell_type": "code",
   "execution_count": null,
   "metadata": {},
   "outputs": [],
   "source": [
    "A = np.random.rand(300,400) * 100"
   ]
  },
  {
   "cell_type": "code",
   "execution_count": null,
   "metadata": {},
   "outputs": [],
   "source": [
    "B = np.random.rand(400,500) * 100"
   ]
  },
  {
   "cell_type": "markdown",
   "metadata": {},
   "source": [
    "## 1. Vanilla Matrix Multiplication O(n<sup>3</sup>)"
   ]
  },
  {
   "cell_type": "code",
   "execution_count": null,
   "metadata": {},
   "outputs": [],
   "source": [
    "def matrix_mul_vanilla(A, B):\n",
    "    res = [[0 for x in range(len(B[0]))] for y in range(len(A))]\n",
    "\n",
    "    start = int(round(time.time() * 1000))\n",
    "    for i in range(0, len(A)):\n",
    "            for j in range(0, len(B[0])):\n",
    "                for k in range(0, len(B)):\n",
    "                     res[i][j] += A[i][k] * B[k][j]\n",
    "\n",
    "    print(\"Time --->\", (int(round(time.time() * 1000)) - start))\n",
    "    return res"
   ]
  },
  {
   "cell_type": "code",
   "execution_count": null,
   "metadata": {},
   "outputs": [],
   "source": [
    "res = matrix_mul_vanilla(A, B)"
   ]
  },
  {
   "cell_type": "markdown",
   "metadata": {},
   "source": [
    "## 2. Multithreading Matrix Mul\n",
    "One thread computes a whole row of result matrix."
   ]
  },
  {
   "cell_type": "code",
   "execution_count": null,
   "metadata": {},
   "outputs": [],
   "source": [
    "import threading\n",
    "import time\n",
    "from multiprocessing.dummy import Pool"
   ]
  },
  {
   "cell_type": "code",
   "execution_count": null,
   "metadata": {},
   "outputs": [],
   "source": [
    "class RowCalculator(threading.Thread):\n",
    "    # it takes one row of matrix A and matrix B\n",
    "    def __init__(self, id, Ai, B):\n",
    "        threading.Thread.__init__(self)\n",
    "        self.id = id\n",
    "        self.Ai = Ai\n",
    "        self.B = B\n",
    "\n",
    "    def run(self):\n",
    "        res = [0 for x in range(len(self.B[0]))]\n",
    "        for i in range(len(self.B[0])):\n",
    "            for k in range(0, len(self.B)):\n",
    "                res[i] += self.Ai[k] * B[k][i]\n",
    "        return res"
   ]
  },
  {
   "cell_type": "code",
   "execution_count": null,
   "metadata": {},
   "outputs": [],
   "source": [
    "start = int(round(time.time() * 1000))\n",
    "res = [[0 for x in range(len(B[0]))] for y in range(len(A))]\n",
    "\n",
    "for i in range(0, len(A)):\n",
    "    cal = RowCalculator(i, A[i,:], B)\n",
    "    res[i] = cal.run()\n",
    "\n",
    "\n",
    "print(\"Execution Time --->\", (int(round(time.time() * 1000)) - start))"
   ]
  },
  {
   "cell_type": "code",
   "execution_count": null,
   "metadata": {},
   "outputs": [],
   "source": [
    "import numpy as np\n",
    "import os\n",
    "from timeit import timeit\n",
    "from multiprocessing import Pool\n",
    "\n",
    "\n",
    "def mmul(matrix):\n",
    "    for i in range(100):\n",
    "        matrix = matrix * matrix\n",
    "    return matrix\n",
    "\n",
    "if __name__ == '__main__':\n",
    "\n",
    "    matrices = []\n",
    "    for i in range(4):\n",
    "        matrices.append(np.random.random_integers(100, size=(1000, 1000)))\n",
    "\n",
    "    print(timeit(lambda: map(mmul, matrices), number=20))\n",
    "\n",
    "    # after importing numpy, reset the CPU affinity of the parent process so\n",
    "    # that it will use all cores\n",
    "    os.system(\"taskset -p 0xff %d\" % os.getpid())\n",
    "\n",
    "    pool = Pool(8)\n",
    "    print(timeit(lambda: pool.map(mmul, matrices), number=20))"
   ]
  },
  {
   "cell_type": "code",
   "execution_count": null,
   "metadata": {},
   "outputs": [],
   "source": []
  }
 ],
 "metadata": {
  "kernelspec": {
   "display_name": "Python 3",
   "language": "python",
   "name": "python3"
  },
  "language_info": {
   "codemirror_mode": {
    "name": "ipython",
    "version": 3
   },
   "file_extension": ".py",
   "mimetype": "text/x-python",
   "name": "python",
   "nbconvert_exporter": "python",
   "pygments_lexer": "ipython3",
   "version": "3.7.4"
  }
 },
 "nbformat": 4,
 "nbformat_minor": 4
}
