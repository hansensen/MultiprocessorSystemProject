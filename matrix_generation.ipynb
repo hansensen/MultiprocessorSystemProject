{
 "cells": [
  {
   "cell_type": "code",
   "execution_count": null,
   "metadata": {},
   "outputs": [],
   "source": [
    "import numpy as np\n",
    "import os\n",
    "from numpy import genfromtxt"
   ]
  },
  {
   "cell_type": "code",
   "execution_count": null,
   "metadata": {},
   "outputs": [],
   "source": [
    "base_path='test_data'"
   ]
  },
  {
   "cell_type": "code",
   "execution_count": null,
   "metadata": {},
   "outputs": [],
   "source": [
    "if not os.path.exists(base_path):\n",
    "    os.makedirs(base_path)"
   ]
  },
  {
   "cell_type": "code",
   "execution_count": null,
   "metadata": {},
   "outputs": [],
   "source": [
    "sizes = [2, 100, 1000, 2000, 5000, 10000]"
   ]
  },
  {
   "cell_type": "code",
   "execution_count": null,
   "metadata": {},
   "outputs": [],
   "source": [
    "for size in sizes:\n",
    "    A = np.random.randint(100,999,(size,size))\n",
    "    B = np.random.randint(100,999,(size,size))\n",
    "    file_A = 'A_' + str(size) + '.csv'\n",
    "    file_B = 'B_' + str(size) + '.csv'\n",
    "    path_A = os.path.join(base_path, file_A)\n",
    "    path_B = os.path.join(base_path, file_B)\n",
    "    print(path_A)\n",
    "    print(path_B)\n",
    "    np.savetxt(path_A, A, fmt='%i',delimiter=\",\")\n",
    "    np.savetxt(path_B, B, fmt='%i',delimiter=\",\")"
   ]
  },
  {
   "cell_type": "code",
   "execution_count": null,
   "metadata": {},
   "outputs": [],
   "source": []
  },
  {
   "cell_type": "code",
   "execution_count": null,
   "metadata": {},
   "outputs": [],
   "source": [
    "for size in sizes:\n",
    "    file_A = 'A_' + str(size) + '.csv'\n",
    "    file_B = 'B_' + str(size) + '.csv'\n",
    "    path_A = os.path.join(base_path, file_A)\n",
    "    path_B = os.path.join(base_path, file_B)\n",
    "    print(path_A)\n",
    "    print(path_B)\n",
    "    A = genfromtxt(path_A, delimiter=',')\n",
    "    B = genfromtxt(path_B, delimiter=',')\n",
    "    print(A.shape)\n",
    "    print(B.shape)"
   ]
  },
  {
   "cell_type": "code",
   "execution_count": null,
   "metadata": {},
   "outputs": [],
   "source": []
  }
 ],
 "metadata": {
  "kernelspec": {
   "display_name": "Python 3",
   "language": "python",
   "name": "python3"
  },
  "language_info": {
   "codemirror_mode": {
    "name": "ipython",
    "version": 3
   },
   "file_extension": ".py",
   "mimetype": "text/x-python",
   "name": "python",
   "nbconvert_exporter": "python",
   "pygments_lexer": "ipython3",
   "version": "3.7.4"
  }
 },
 "nbformat": 4,
 "nbformat_minor": 4
}
