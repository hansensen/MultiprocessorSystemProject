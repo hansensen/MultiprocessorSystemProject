{
 "cells": [
  {
   "cell_type": "code",
   "execution_count": 1,
   "metadata": {},
   "outputs": [
    {
     "name": "stdout",
     "output_type": "stream",
     "text": [
      "./test_data/A_2.csv\n",
      "./test_data/B_2.csv\n",
      "Time ---> 0\n",
      "[[154640.0, 132235.0], [965340.0, 808104.0]]\n"
     ]
    }
   ],
   "source": [
    "%run -i './1_vanilla.py'"
   ]
  },
  {
   "cell_type": "code",
   "execution_count": 2,
   "metadata": {},
   "outputs": [
    {
     "name": "stdout",
     "output_type": "stream",
     "text": [
      "./test_data/A_2.csv\n",
      "./test_data/B_2.csv\n",
      "(2, 2)\n",
      "starts from 0 and ends 1\n",
      "starts from 1 and ends 2\n",
      "[0, 1]\n",
      "[[154640. 132235.]\n",
      " [965340. 808104.]]\n"
     ]
    }
   ],
   "source": [
    "%run -i './2_vanilla_parallel.py'"
   ]
  },
  {
   "cell_type": "code",
   "execution_count": 3,
   "metadata": {},
   "outputs": [
    {
     "name": "stdout",
     "output_type": "stream",
     "text": [
      "./test_data/A_2.csv\n",
      "./test_data/B_2.csv\n",
      "(2, 2)\n",
      "Elapsed time during the whole program in seconds: 0.0002300000000000635\n",
      "[[154640.0, 132235.0], [965340.0, 808104.0]]\n"
     ]
    }
   ],
   "source": [
    "%run -i './3_strassen.py'"
   ]
  },
  {
   "cell_type": "code",
   "execution_count": null,
   "metadata": {},
   "outputs": [],
   "source": []
  }
 ],
 "metadata": {
  "kernelspec": {
   "display_name": "Python 3",
   "language": "python",
   "name": "python3"
  },
  "language_info": {
   "codemirror_mode": {
    "name": "ipython",
    "version": 3
   },
   "file_extension": ".py",
   "mimetype": "text/x-python",
   "name": "python",
   "nbconvert_exporter": "python",
   "pygments_lexer": "ipython3",
   "version": "3.7.4"
  }
 },
 "nbformat": 4,
 "nbformat_minor": 4
}
