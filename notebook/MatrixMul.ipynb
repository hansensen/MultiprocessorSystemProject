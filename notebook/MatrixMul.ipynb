{
 "cells": [
  {
   "cell_type": "code",
   "execution_count": 1,
   "metadata": {},
   "outputs": [],
   "source": [
    "import pandas as pd\n",
    "import numpy as np\n",
    "import time"
   ]
  },
  {
   "cell_type": "code",
   "execution_count": 2,
   "metadata": {},
   "outputs": [],
   "source": [
    "A = np.random.rand(300,400) * 100"
   ]
  },
  {
   "cell_type": "code",
   "execution_count": 3,
   "metadata": {},
   "outputs": [],
   "source": [
    "B = np.random.rand(400,500) * 100"
   ]
  },
  {
   "cell_type": "markdown",
   "metadata": {},
   "source": [
    "## 1. Vanilla Matrix Multiplication O(n<sup>3</sup>)"
   ]
  },
  {
   "cell_type": "code",
   "execution_count": 4,
   "metadata": {},
   "outputs": [],
   "source": [
    "def matrix_mul_vanilla(A, B):\n",
    "    res = [[0 for x in range(len(B[0]))] for y in range(len(A))]\n",
    "\n",
    "    start = int(round(time.time() * 1000))\n",
    "    for i in range(0, len(A)):\n",
    "            for j in range(0, len(B[0])):\n",
    "                for k in range(0, len(B)):\n",
    "                     res[i][j] += A[i][k] * B[k][j]\n",
    "\n",
    "    print(\"Time --->\", (int(round(time.time() * 1000)) - start))\n",
    "    return res"
   ]
  },
  {
   "cell_type": "code",
   "execution_count": 5,
   "metadata": {},
   "outputs": [
    {
     "name": "stdout",
     "output_type": "stream",
     "text": [
      "Time ---> 39779\n"
     ]
    }
   ],
   "source": [
    "res = matrix_mul_vanilla(A, B)"
   ]
  },
  {
   "cell_type": "markdown",
   "metadata": {},
   "source": [
    "## 2. Multithreading Matrix Mul\n",
    "One thread computes a whole row of result matrix."
   ]
  },
  {
   "cell_type": "code",
   "execution_count": 6,
   "metadata": {},
   "outputs": [],
   "source": [
    "import threading\n",
    "import time\n",
    "from multiprocessing.dummy import Pool"
   ]
  },
  {
   "cell_type": "code",
   "execution_count": 7,
   "metadata": {},
   "outputs": [],
   "source": [
    "class RowCalculator(threading.Thread):\n",
    "    # it takes one row of matrix A and matrix B\n",
    "    def __init__(self, id, Ai, B):\n",
    "        threading.Thread.__init__(self)\n",
    "        self.id = id\n",
    "        self.Ai = Ai\n",
    "        self.B = B\n",
    "\n",
    "    def run(self):\n",
    "        res = [0 for x in range(len(self.B[0]))]\n",
    "        for i in range(len(self.B[0])):\n",
    "            for k in range(0, len(self.B)):\n",
    "                res[i] += self.Ai[k] * B[k][i]\n",
    "        return res"
   ]
  },
  {
   "cell_type": "code",
   "execution_count": 8,
   "metadata": {},
   "outputs": [
    {
     "name": "stdout",
     "output_type": "stream",
     "text": [
      "Execution Time ---> 36773\n"
     ]
    }
   ],
   "source": [
    "start = int(round(time.time() * 1000))\n",
    "res = [[0 for x in range(len(B[0]))] for y in range(len(A))]\n",
    "\n",
    "for i in range(0, len(A)):\n",
    "    cal = RowCalculator(i, A[i,:], B)\n",
    "    res[i] = cal.run()\n",
    "\n",
    "\n",
    "print(\"Execution Time --->\", (int(round(time.time() * 1000)) - start))"
   ]
  },
  {
   "cell_type": "code",
   "execution_count": 9,
   "metadata": {},
   "outputs": [
    {
     "name": "stdout",
     "output_type": "stream",
     "text": [
      "[array([[40,  7, 89, ..., 34, 45, 27],\n",
      "       [19, 80, 51, ..., 98, 21, 32],\n",
      "       [44, 11, 55, ..., 11, 49, 24],\n",
      "       ...,\n",
      "       [32,  4, 98, ..., 65,  8, 23],\n",
      "       [65, 28, 35, ..., 13, 52, 99],\n",
      "       [25, 59, 11, ...,  7, 48, 48]]), array([[59, 18, 27, ..., 76, 72, 32],\n",
      "       [14, 88, 62, ..., 72, 17, 54],\n",
      "       [58, 39, 58, ..., 31, 36,  5],\n",
      "       ...,\n",
      "       [57, 30, 77, ..., 39, 70, 85],\n",
      "       [53, 38, 85, ..., 56, 74, 72],\n",
      "       [67, 51, 34, ..., 11, 44, 11]]), array([[75, 35, 44, ..., 59,  7, 34],\n",
      "       [12, 40,  9, ..., 69, 95, 98],\n",
      "       [63, 99, 71, ..., 43, 92, 52],\n",
      "       ...,\n",
      "       [74, 38, 80, ..., 49, 38, 93],\n",
      "       [30,  2, 63, ..., 50, 99, 76],\n",
      "       [15,  4,  3, ..., 55,  4, 68]]), array([[ 43,  20, 100, ...,  19,  47,  28],\n",
      "       [ 66,  51,  23, ...,  89,  76,  13],\n",
      "       [ 71,  59,  51, ...,  74,  79,  55],\n",
      "       ...,\n",
      "       [ 24,  56,  29, ...,  55,   3,  32],\n",
      "       [  8,  29,  95, ...,  55,  16,  49],\n",
      "       [ 60,  68,  14, ...,  49,  85,  41]])]\n",
      "5.557999998018204e-06\n"
     ]
    },
    {
     "name": "stderr",
     "output_type": "stream",
     "text": [
      "/Users/eugenehan/opt/anaconda3/lib/python3.7/site-packages/ipykernel_launcher.py:16: DeprecationWarning: This function is deprecated. Please call randint(1, 100 + 1) instead\n",
      "  app.launch_new_instance()\n"
     ]
    },
    {
     "name": "stdout",
     "output_type": "stream",
     "text": [
      "4.878615407000012\n"
     ]
    }
   ],
   "source": [
    "import numpy as np\n",
    "import os\n",
    "from timeit import timeit\n",
    "from multiprocessing import Pool\n",
    "\n",
    "\n",
    "def mmul(matrix):\n",
    "    for i in range(100):\n",
    "        matrix = matrix * matrix\n",
    "    return matrix\n",
    "\n",
    "if __name__ == '__main__':\n",
    "\n",
    "    matrices = []\n",
    "    for i in range(4):\n",
    "        matrices.append(np.random.random_integers(100, size=(1000, 1000)))\n",
    "    print(matrices)\n",
    "\n",
    "    print(timeit(lambda: map(mmul, matrices), number=20))\n",
    "\n",
    "    # after importing numpy, reset the CPU affinity of the parent process so\n",
    "    # that it will use all cores\n",
    "    os.system(\"taskset -p 0xff %d\" % os.getpid())\n",
    "\n",
    "    pool = Pool(8)\n",
    "    print(timeit(lambda: pool.map(mmul, matrices), number=20))"
   ]
  },
  {
   "cell_type": "code",
   "execution_count": 10,
   "metadata": {},
   "outputs": [
    {
     "name": "stderr",
     "output_type": "stream",
     "text": [
      "/Users/eugenehan/opt/anaconda3/lib/python3.7/site-packages/ipykernel_launcher.py:1: DeprecationWarning: This function is deprecated. Please call randint(1, 100 + 1) instead\n",
      "  \"\"\"Entry point for launching an IPython kernel.\n"
     ]
    }
   ],
   "source": [
    "a =np.random.random_integers(100, size=(1000, 1000))"
   ]
  },
  {
   "cell_type": "code",
   "execution_count": 11,
   "metadata": {},
   "outputs": [
    {
     "data": {
      "text/plain": [
       "4"
      ]
     },
     "execution_count": 11,
     "metadata": {},
     "output_type": "execute_result"
    }
   ],
   "source": [
    "len(matrices)"
   ]
  },
  {
   "cell_type": "code",
   "execution_count": null,
   "metadata": {},
   "outputs": [],
   "source": []
  }
 ],
 "metadata": {
  "kernelspec": {
   "display_name": "Python 3",
   "language": "python",
   "name": "python3"
  },
  "language_info": {
   "codemirror_mode": {
    "name": "ipython",
    "version": 3
   },
   "file_extension": ".py",
   "mimetype": "text/x-python",
   "name": "python",
   "nbconvert_exporter": "python",
   "pygments_lexer": "ipython3",
   "version": "3.7.4"
  }
 },
 "nbformat": 4,
 "nbformat_minor": 4
}
