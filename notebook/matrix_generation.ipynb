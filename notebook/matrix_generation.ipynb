{
 "cells": [
  {
   "cell_type": "code",
   "execution_count": 1,
   "metadata": {},
   "outputs": [],
   "source": [
    "import numpy as np\n",
    "import os\n",
    "from numpy import genfromtxt"
   ]
  },
  {
   "cell_type": "code",
   "execution_count": 2,
   "metadata": {},
   "outputs": [],
   "source": [
    "base_path='../test_data'"
   ]
  },
  {
   "cell_type": "code",
   "execution_count": 3,
   "metadata": {},
   "outputs": [],
   "source": [
    "if not os.path.exists(base_path):\n",
    "    os.makedirs(base_path)"
   ]
  },
  {
   "cell_type": "code",
   "execution_count": 4,
   "metadata": {},
   "outputs": [],
   "source": [
    "sizes = [2, 100, 1000, 2000, 5000, 10000]"
   ]
  },
  {
   "cell_type": "code",
   "execution_count": 5,
   "metadata": {},
   "outputs": [
    {
     "name": "stdout",
     "output_type": "stream",
     "text": [
      "../test_data/A_2.csv\n",
      "../test_data/B_2.csv\n",
      "../test_data/A_100.csv\n",
      "../test_data/B_100.csv\n",
      "../test_data/A_1000.csv\n",
      "../test_data/B_1000.csv\n",
      "../test_data/A_2000.csv\n",
      "../test_data/B_2000.csv\n",
      "../test_data/A_5000.csv\n",
      "../test_data/B_5000.csv\n",
      "../test_data/A_10000.csv\n",
      "../test_data/B_10000.csv\n"
     ]
    }
   ],
   "source": [
    "for size in sizes:\n",
    "    A = np.random.randint(100,999,(size,size))\n",
    "    B = np.random.randint(100,999,(size,size))\n",
    "    file_A = 'A_' + str(size) + '.csv'\n",
    "    file_B = 'B_' + str(size) + '.csv'\n",
    "    path_A = os.path.join(base_path, file_A)\n",
    "    path_B = os.path.join(base_path, file_B)\n",
    "    print(path_A)\n",
    "    print(path_B)\n",
    "    np.savetxt(path_A, A, fmt='%i',delimiter=\",\")\n",
    "    np.savetxt(path_B, B, fmt='%i',delimiter=\",\")"
   ]
  },
  {
   "cell_type": "code",
   "execution_count": null,
   "metadata": {},
   "outputs": [],
   "source": []
  },
  {
   "cell_type": "code",
   "execution_count": null,
   "metadata": {},
   "outputs": [
    {
     "name": "stdout",
     "output_type": "stream",
     "text": [
      "../test_data/A_2.csv\n",
      "../test_data/B_2.csv\n",
      "(2, 2)\n",
      "(2, 2)\n",
      "../test_data/A_100.csv\n",
      "../test_data/B_100.csv\n",
      "(100, 100)\n",
      "(100, 100)\n",
      "../test_data/A_1000.csv\n",
      "../test_data/B_1000.csv\n",
      "(1000, 1000)\n",
      "(1000, 1000)\n",
      "../test_data/A_2000.csv\n",
      "../test_data/B_2000.csv\n",
      "(2000, 2000)\n",
      "(2000, 2000)\n",
      "../test_data/A_5000.csv\n",
      "../test_data/B_5000.csv\n",
      "(5000, 5000)\n",
      "(5000, 5000)\n",
      "../test_data/A_10000.csv\n",
      "../test_data/B_10000.csv\n"
     ]
    }
   ],
   "source": [
    "for size in sizes:\n",
    "    file_A = 'A_' + str(size) + '.csv'\n",
    "    file_B = 'B_' + str(size) + '.csv'\n",
    "    path_A = os.path.join(base_path, file_A)\n",
    "    path_B = os.path.join(base_path, file_B)\n",
    "    print(path_A)\n",
    "    print(path_B)\n",
    "    A = genfromtxt(path_A, delimiter=',')\n",
    "    B = genfromtxt(path_B, delimiter=',')\n",
    "    print(A.shape)\n",
    "    print(B.shape)"
   ]
  },
  {
   "cell_type": "code",
   "execution_count": null,
   "metadata": {},
   "outputs": [],
   "source": []
  }
 ],
 "metadata": {
  "kernelspec": {
   "display_name": "Python 3",
   "language": "python",
   "name": "python3"
  },
  "language_info": {
   "codemirror_mode": {
    "name": "ipython",
    "version": 3
   },
   "file_extension": ".py",
   "mimetype": "text/x-python",
   "name": "python",
   "nbconvert_exporter": "python",
   "pygments_lexer": "ipython3",
   "version": "3.7.4"
  }
 },
 "nbformat": 4,
 "nbformat_minor": 4
}
