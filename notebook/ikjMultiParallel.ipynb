{
 "cells": [
  {
   "cell_type": "code",
   "execution_count": 1,
   "metadata": {},
   "outputs": [],
   "source": [
    "import numpy as np\n",
    "import multiprocessing"
   ]
  },
  {
   "cell_type": "code",
   "execution_count": 2,
   "metadata": {},
   "outputs": [],
   "source": [
    "matrix_size=2"
   ]
  },
  {
   "cell_type": "code",
   "execution_count": 3,
   "metadata": {},
   "outputs": [],
   "source": [
    "A = np.random.randint(100,200, (matrix_size,matrix_size))\n",
    "B = np.random.randint(100,200, (matrix_size,matrix_size))"
   ]
  },
  {
   "cell_type": "code",
   "execution_count": 4,
   "metadata": {},
   "outputs": [],
   "source": [
    "n, m, p = len(A), len(A[0]), len(B[0])"
   ]
  },
  {
   "cell_type": "code",
   "execution_count": 5,
   "metadata": {},
   "outputs": [
    {
     "name": "stdout",
     "output_type": "stream",
     "text": [
      "(2, 2)\n"
     ]
    }
   ],
   "source": [
    "C = np.zeros((n, p))\n",
    "print(C.shape)"
   ]
  },
  {
   "cell_type": "code",
   "execution_count": 6,
   "metadata": {},
   "outputs": [],
   "source": [
    "def lineMult(start):\n",
    "    global A, B, C, part\n",
    "    n = len(A)\n",
    "    print('starts from {} and ends {}'.format(start, start+part))\n",
    "    for i in range(start, start+part):\n",
    "        for k in range(n):\n",
    "            for j in range(n):\n",
    "                C[i][j] += A[i][k] * B[k][j]\n",
    "                tmp = A[i][k] * B[k][j]\n",
    "    return C"
   ]
  },
  {
   "cell_type": "code",
   "execution_count": 7,
   "metadata": {},
   "outputs": [],
   "source": [
    "def ikjMatrixProduct(A, B, threadNumber):\n",
    "    n = len(A)\n",
    "    pool = multiprocessing.Pool(threadNumber)\n",
    "    print(list(range(0, n, part)))\n",
    "    results = pool.map(lineMult, list(range(0,n, part)))\n",
    "    return sum(results)"
   ]
  },
  {
   "cell_type": "code",
   "execution_count": 8,
   "metadata": {},
   "outputs": [],
   "source": [
    "threadNumber = 2\n",
    "part = int(len(A) / threadNumber)\n",
    "if part < 1:\n",
    "    part = 1"
   ]
  },
  {
   "cell_type": "code",
   "execution_count": 9,
   "metadata": {},
   "outputs": [
    {
     "name": "stdout",
     "output_type": "stream",
     "text": [
      "starts from 0 and ends 1\n",
      "starts from 1 and ends 2\n",
      "[0, 1]\n"
     ]
    }
   ],
   "source": [
    "C = ikjMatrixProduct(A, B, threadNumber)"
   ]
  },
  {
   "cell_type": "code",
   "execution_count": 10,
   "metadata": {},
   "outputs": [
    {
     "data": {
      "text/plain": [
       "array([[28904., 36840.],\n",
       "       [43994., 55840.]])"
      ]
     },
     "execution_count": 10,
     "metadata": {},
     "output_type": "execute_result"
    }
   ],
   "source": [
    "C"
   ]
  },
  {
   "cell_type": "code",
   "execution_count": null,
   "metadata": {},
   "outputs": [],
   "source": []
  }
 ],
 "metadata": {
  "kernelspec": {
   "display_name": "Python 3",
   "language": "python",
   "name": "python3"
  },
  "language_info": {
   "codemirror_mode": {
    "name": "ipython",
    "version": 3
   },
   "file_extension": ".py",
   "mimetype": "text/x-python",
   "name": "python",
   "nbconvert_exporter": "python",
   "pygments_lexer": "ipython3",
   "version": "3.7.4"
  }
 },
 "nbformat": 4,
 "nbformat_minor": 4
}
